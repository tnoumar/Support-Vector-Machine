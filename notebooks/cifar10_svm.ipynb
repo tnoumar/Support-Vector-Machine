{
 "cells": [
  {
   "cell_type": "markdown",
   "metadata": {},
   "source": [
    "# Comparaison de performances de SVM et KNN\n",
    "\n",
    "Les deux algorithmes diffèrent totalement par leur implémentation et leur compléxité. Dans ce notebook, on compare leur performance sur la bdd CIFAR-10."
   ]
  },
  {
   "cell_type": "markdown",
   "metadata": {},
   "source": [
    "## IMPORTS\n",
    "On charge la base CIFAR-10 à partir de la lib KERAS. On définit notre *training set*, *test set* sur un nombre limité d'images."
   ]
  },
  {
   "cell_type": "code",
   "execution_count": 7,
   "metadata": {},
   "outputs": [],
   "source": [
    "\n",
    "import os\n",
    "import time\n",
    "import numpy as np\n",
    "from sklearn.neighbors import KNeighborsClassifier\n",
    "import matplotlib.pyplot as plt\n",
    "from sklearn import svm"
   ]
  },
  {
   "cell_type": "code",
   "execution_count": 2,
   "metadata": {},
   "outputs": [],
   "source": [
    "#charger CIFAR a partir de keras\n",
    "from keras.datasets import cifar10\n",
    "baseDir = os.path.dirname(os.path.abspath('__file__')) + '/'\n",
    "classesName = ['plane', 'car', 'bird', 'cat', 'deer', 'dog', 'frog', 'horse', 'ship', 'truck']\n",
    "(xTrain, yTrain), (xTest, yTest) = cifar10.load_data()\n",
    "xVal = xTrain[49000:, :].astype(np.float)\n",
    "yVal = np.squeeze(yTrain[49000:, :])\n",
    "xTrain = xTrain[:49000, :].astype(np.float)\n",
    "yTrain = np.squeeze(yTrain[:49000, :])\n",
    "yTest = np.squeeze(yTest)\n",
    "xTest = xTest.astype(np.float)\n"
   ]
  },
  {
   "cell_type": "code",
   "execution_count": 3,
   "metadata": {},
   "outputs": [
    {
     "data": {
      "image/png": "[encoded data removed]",
      "text/plain": [
       "<Figure size 432x288 with 4 Axes>"
      ]
     },
     "metadata": {
      "needs_background": "light"
     },
     "output_type": "display_data"
    }
   ],
   "source": [
    "# afficher quelques images\n",
    "plt.subplot(221)\n",
    "plt.imshow(xTrain[0].astype(np.int))\n",
    "plt.axis('off')\n",
    "plt.title(classesName[yTrain[0]])\n",
    "plt.subplot(222)\n",
    "plt.imshow(xTrain[1].astype(np.int))\n",
    "plt.axis('off')\n",
    "plt.title(classesName[yTrain[1]])\n",
    "plt.subplot(223)\n",
    "plt.imshow(xVal[0].astype(np.int))\n",
    "plt.axis('off')\n",
    "plt.title(classesName[yVal[0]])\n",
    "plt.subplot(224)\n",
    "plt.imshow(xTest[0].astype(np.int))\n",
    "plt.axis('off')\n",
    "plt.title('cat')\n",
    "plt.show()"
   ]
  },
  {
   "cell_type": "markdown",
   "metadata": {},
   "source": [
    "## Redimensionnement des images en vecteurs"
   ]
  },
  {
   "cell_type": "code",
   "execution_count": 4,
   "metadata": {},
   "outputs": [],
   "source": [
    "xTrain = np.reshape(xTrain, (xTrain.shape[0], -1)) \n",
    "xVal = np.reshape(xVal, (xVal.shape[0], -1))\n",
    "xTest = np.reshape(xTest, (xTest.shape[0], -1))\n",
    "\n",
    "\n",
    "#Choosing a smaller dataset\n",
    "xTrain=xTrain[:3000,:]\n",
    "yTrain=yTrain[:3000]\n"
   ]
  },
  {
   "cell_type": "markdown",
   "metadata": {},
   "source": [
    "## Implémentations \n",
    "SVM prenant le paramètre c *taux d'apprentissage* et KNN prenant k *k plus proches voisins*\n"
   ]
  },
  {
   "cell_type": "code",
   "execution_count": 5,
   "metadata": {},
   "outputs": [],
   "source": [
    "def svm_linear(c):\n",
    "    svc = svm.SVC(C = c)\n",
    "    \n",
    "    svc.fit(xTrain, yTrain) \n",
    "    # Find the prediction and accuracy on the training set.\n",
    "    \n",
    "    Yhat_svc_linear_train = svc.predict(xTrain)\n",
    "    acc_train = np.mean(Yhat_svc_linear_train == yTrain)\n",
    "    acc_train_svm_linear.append(acc_train)\n",
    "    print('Précision des prédictions SVM : {:.2%}'.format(acc_train))\n",
    "    \n",
    "\n",
    "def knn_fnc(k):\n",
    "    knn =  KNeighborsClassifier(n_neighbors=k)\n",
    "    \n",
    "    knn.fit(xTrain, yTrain) \n",
    "    # Find the prediction and accuracy on the training set.\n",
    "    \n",
    "    Yhat_knn_train = knn.predict(xTrain)\n",
    "    acc_train = np.mean(Yhat_knn_train == yTrain)\n",
    "    acc_train_knn.append(acc_train)\n",
    "    print('Précision des prédictions KNN :{:.2%}'.format(acc_train))\n"
   ]
  },
  {
   "cell_type": "markdown",
   "metadata": {},
   "source": [
    "## plot des performances des deux algorithmes en fonction de leurs parametre respectif "
   ]
  },
  {
   "cell_type": "code",
   "execution_count": 11,
   "metadata": {},
   "outputs": [
    {
     "name": "stdout",
     "output_type": "stream",
     "text": [
      "Précision des prédictions SVM : 10.73%\n",
      "Précision des prédictions SVM : 10.73%\n",
      "Précision des prédictions SVM : 10.73%\n",
      "Précision des prédictions SVM : 38.20%\n",
      "Précision des prédictions SVM : 73.33%\n",
      "Précision des prédictions SVM : 99.93%\n",
      "Précision des prédictions SVM : 100.00%\n",
      "Précision des prédictions KNN :100.00%\n",
      "Précision des prédictions KNN :50.87%\n",
      "Précision des prédictions KNN :42.67%\n",
      "Précision des prédictions KNN :37.50%\n",
      "Précision des prédictions KNN :36.03%\n",
      "Précision des prédictions KNN :35.33%\n",
      "Précision des prédictions KNN :33.47%\n",
      "Précision des prédictions KNN :32.47%\n",
      "Précision des prédictions KNN :28.37%\n",
      "Précision des prédictions KNN :26.87%\n"
     ]
    }
   ],
   "source": [
    "c_svm_linear = [0.0001,0.001,0.01,0.1,1,10,100]\n",
    "c_svm_linear_str = [\"0.0001\",\"0.001\",\"0.01\",\"0.1\",\"1\",\"10\",\"100\"]\n",
    "k_choices = [1, 3, 5, 8, 10, 12, 15, 20, 50, 100]\n",
    "acc_train_svm_linear = []\n",
    "acc_train_knn = []\n",
    "\n",
    "for c in c_svm_linear:\n",
    "    svm_linear(c)\n",
    "for k in k_choices:\n",
    "    knn_fnc(k)\n",
    "\n"
   ]
  },
  {
   "cell_type": "code",
   "execution_count": 27,
   "metadata": {},
   "outputs": [
    {
     "ename": "AttributeError",
     "evalue": "module 'matplotlib.pyplot' has no attribute 'set_ticks'",
     "output_type": "error",
     "traceback": [
      "\u001b[0;31m---------------------------------------------------------------------------\u001b[0m",
      "\u001b[0;31mAttributeError\u001b[0m                            Traceback (most recent call last)",
      "\u001b[0;32m<ipython-input-27-245b1d3e25ef>\u001b[0m in \u001b[0;36m<module>\u001b[0;34m\u001b[0m\n\u001b[1;32m      3\u001b[0m \u001b[0mplt\u001b[0m\u001b[0;34m.\u001b[0m\u001b[0mxlabel\u001b[0m\u001b[0;34m(\u001b[0m\u001b[0;34m'c'\u001b[0m\u001b[0;34m)\u001b[0m\u001b[0;34m\u001b[0m\u001b[0;34m\u001b[0m\u001b[0m\n\u001b[1;32m      4\u001b[0m \u001b[0mplt\u001b[0m\u001b[0;34m.\u001b[0m\u001b[0mylabel\u001b[0m\u001b[0;34m(\u001b[0m\u001b[0;34m'Précision : 1=100%'\u001b[0m\u001b[0;34m)\u001b[0m\u001b[0;34m\u001b[0m\u001b[0;34m\u001b[0m\u001b[0m\n\u001b[0;32m----> 5\u001b[0;31m \u001b[0mplt\u001b[0m\u001b[0;34m.\u001b[0m\u001b[0mset_ticks\u001b[0m\u001b[0;34m(\u001b[0m\u001b[0mnp\u001b[0m\u001b[0;34m.\u001b[0m\u001b[0marange\u001b[0m\u001b[0;34m(\u001b[0m\u001b[0;36m7\u001b[0m\u001b[0;34m)\u001b[0m\u001b[0;34m)\u001b[0m\u001b[0;34m\u001b[0m\u001b[0;34m\u001b[0m\u001b[0m\n\u001b[0m\u001b[1;32m      6\u001b[0m \u001b[0mplt\u001b[0m\u001b[0;34m.\u001b[0m\u001b[0mset_ticklabels\u001b[0m\u001b[0;34m(\u001b[0m\u001b[0mnp\u001b[0m\u001b[0;34m.\u001b[0m\u001b[0marange\u001b[0m\u001b[0;34m(\u001b[0m\u001b[0;36m7\u001b[0m\u001b[0;34m)\u001b[0m\u001b[0;34m)\u001b[0m\u001b[0;34m\u001b[0m\u001b[0;34m\u001b[0m\u001b[0m\n\u001b[1;32m      7\u001b[0m \u001b[0;34m\u001b[0m\u001b[0m\n",
      "\u001b[0;31mAttributeError\u001b[0m: module 'matplotlib.pyplot' has no attribute 'set_ticks'"
     ]
    },
    {
     "data": {
      "image/png": "[encoded data removed]",
      "text/plain": [
       "<Figure size 432x288 with 1 Axes>"
      ]
     },
     "metadata": {
      "needs_background": "light"
     },
     "output_type": "display_data"
    }
   ],
   "source": [
    "#plt.subplot(2,1,1)\n",
    "plt.plot(np.arange(7), acc_train_svm_linear,'.-',color='red', label='SVM')\n",
    "plt.xlabel('c')\n",
    "plt.ylabel('Précision : 1=100%')\n",
    "plt.xticks(np.arange(7))\n",
    "plt.set_ticklabels(np.arange(7)) \n",
    "\n",
    "plt.grid()\n",
    "plt.title(\"SVM: précision en fonction du facteur C\")\n",
    "\n",
    "plt.legend()\n",
    "plt.show()\n",
    "#plt.subplot(2,1,2)\n",
    "plt.plot(k_choices, acc_train_knn,'.-',color='orange',label='KNN')\n",
    "plt.xlabel('k')\n",
    "plt.ylabel('Précision : 1=100%')\n",
    "plt.legend()\n",
    "plt.title(\"KNN: précision en fonction du facteur K\")\n",
    "plt.grid()\n",
    "plt.show()"
   ]
  },
  {
   "cell_type": "markdown",
   "metadata": {},
   "source": [
    "## Conclusion\n",
    "On remarque que les performances maximales, en prenant compte de leurs paramètres respectifs, des deux algorithmes sur la base de données CIFAR-10 sont égales.\n",
    "En effet, c'est la nature du dataset (nombre d'échantillons, nombre de signatures, etc...) et du problèmes qui déterminent quel algorithme choisir pour le problème de classification.\n"
   ]
  },
  {
   "cell_type": "code",
   "execution_count": null,
   "metadata": {},
   "outputs": [],
   "source": []
  }
 ],
 "metadata": {
  "kernelspec": {
   "display_name": "Python 3",
   "language": "python",
   "name": "python3"
  },
  "language_info": {
   "codemirror_mode": {
    "name": "ipython",
    "version": 3
   },
   "file_extension": ".py",
   "mimetype": "text/x-python",
   "name": "python",
   "nbconvert_exporter": "python",
   "pygments_lexer": "ipython3",
   "version": "3.8.5"
  }
 },
 "nbformat": 4,
 "nbformat_minor": 2
}
