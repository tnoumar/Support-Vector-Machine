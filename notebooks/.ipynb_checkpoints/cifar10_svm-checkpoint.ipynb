{
 "cells": [
  {
   "cell_type": "markdown",
   "metadata": {},
   "source": [
    "# Comparaison de performances de SVM et KNN\n",
    "\n",
    "Les deux algorithmes diffèrent totalement par leur implémentation et leur compléxité. Dans ce notebook, on compare leur performance e"
   ]
  },
  {
   "cell_type": "code",
   "execution_count": 1,
   "metadata": {
    "collapsed": true
   },
   "outputs": [],
   "source": [
    "import os\n",
    "import time\n",
    "import numpy as np\n",
    "\n",
    "import matplotlib.pyplot as plt\n",
    "import matplotlib as mpl\n",
    "%matplotlib inline"
   ]
  },
  {
   "cell_type": "code",
   "execution_count": 3,
   "metadata": {},
   "outputs": [
    {
     "name": "stderr",
     "output_type": "stream",
     "text": [
      "Clipping input data to the valid range for imshow with RGB data ([0..1] for floats or [0..255] for integers).\n",
      "Clipping input data to the valid range for imshow with RGB data ([0..1] for floats or [0..255] for integers).\n",
      "Clipping input data to the valid range for imshow with RGB data ([0..1] for floats or [0..255] for integers).\n",
      "Clipping input data to the valid range for imshow with RGB data ([0..1] for floats or [0..255] for integers).\n",
      "Train image shape:    (49000, 32, 32, 3)\n",
      "Train label shape:    (49000,)\n",
      "Validate image shape: (1000, 32, 32, 3)\n",
      "Validate label shape: (1000,)\n",
      "Test image shape:     (10000, 32, 32, 3)\n",
      "Test label shape:     (10000,)\n"
     ]
    },
    {
     "data": {
      "image/png": "[encoded data removed]",
      "image/svg+xml": [
       "<?xml version=\"1.0\" encoding=\"utf-8\" standalone=\"no\"?>\n",
       "<!DOCTYPE svg PUBLIC \"-//W3C//DTD SVG 1.1//EN\"\n",
       "  \"http://www.w3.org/Graphics/SVG/1.1/DTD/svg11.dtd\">\n",
       "<!-- Created with matplotlib (https://matplotlib.org/) -->\n",
       "<svg height=\"246.958125pt\" version=\"1.1\" viewBox=\"0 0 295.854545 246.958125\" width=\"295.854545pt\" xmlns=\"http://www.w3.org/2000/svg\" xmlns:xlink=\"http://www.w3.org/1999/xlink\">\n",
       " <defs>\n",
       "  <style type=\"text/css\">\n",
       "*{stroke-linecap:butt;stroke-linejoin:round;}\n",
       "  </style>\n",
       " </defs>\n",
       " <g id=\"figure_1\">\n",
       "  <g id=\"patch_1\">\n",
       "   <path d=\"M 0 246.958125 \n",
       "L 295.854545 246.958125 \n",
       "L 295.854545 0 \n",
       "L 0 0 \n",
       "z\n",
       "\" style=\"fill:none;\"/>\n",
       "  </g>\n",
       "  <g id=\"axes_1\">\n",
       "   <g clip-path=\"url(#pfa9af22a82)\">\n",
       "    <image height=\"99\" id=\"imagece00e6a0be\" transform=\"scale(1 -1)translate(0 -99)\" width=\"99\" x=\"7.2\" xlink:href=\"data:image/png;base64,\n",
       "iVBORw0KGgoAAAANSUhEUgAAAGMAAABjCAYAAACPO76VAAAABHNCSVQICAgIfAhkiAAAATJJREFUeJzt3TEOgkAQQFEx3v/KYykYGo1hf8x7FSXJzwxLtdvMzI2E++oX4EWMkMfqF/g/2+75sy+AyQgRI8Sa+rnvD6cmI0SMEDFCxAgRI0SMEDFCxAgRI0SMEDFCxAgRI0SMEDFCxAgRI0SMEDFCxAgRI0SMEDFCxAgRI0SMEDFCxAgRI0SMEDFCxAgRI0SMEDFCxAgRI0SMEDFCxAgRI0SMEDFCxAgRI0SMEDFCxAgRI0SMEDFCxAgRI0SMEDFCxAgRI0SMEDFCxAgRI0SMEDFCxAgRI0SMEDFCxAgRI0SMEDFCxAgRI8QNlkucX8ZrMkLECBEjxDdjifObkU1GiBghYoSIESJGyNtp6vzPkGuYjBAxQg5ratttqRkr62omI0SMkMOamrGOVjIZIWKEPAF4kg/LYwVNtAAAAABJRU5ErkJggg==\" y=\"-22.154489\"/>\n",
       "   </g>\n",
       "   <g id=\"text_1\">\n",
       "    <!-- frog -->\n",
       "    <defs>\n",
       "     <path d=\"M 37.109375 75.984375 \n",
       "L 37.109375 68.5 \n",
       "L 28.515625 68.5 \n",
       "Q 23.6875 68.5 21.796875 66.546875 \n",
       "Q 19.921875 64.59375 19.921875 59.515625 \n",
       "L 19.921875 54.6875 \n",
       "L 34.71875 54.6875 \n",
       "L 34.71875 47.703125 \n",
       "L 19.921875 47.703125 \n",
       "L 19.921875 0 \n",
       "L 10.890625 0 \n",
       "L 10.890625 47.703125 \n",
       "L 2.296875 47.703125 \n",
       "L 2.296875 54.6875 \n",
       "L 10.890625 54.6875 \n",
       "L 10.890625 58.5 \n",
       "Q 10.890625 67.625 15.140625 71.796875 \n",
       "Q 19.390625 75.984375 28.609375 75.984375 \n",
       "z\n",
       "\" id=\"DejaVuSans-102\"/>\n",
       "     <path d=\"M 41.109375 46.296875 \n",
       "Q 39.59375 47.171875 37.8125 47.578125 \n",
       "Q 36.03125 48 33.890625 48 \n",
       "Q 26.265625 48 22.1875 43.046875 \n",
       "Q 18.109375 38.09375 18.109375 28.8125 \n",
       "L 18.109375 0 \n",
       "L 9.078125 0 \n",
       "L 9.078125 54.6875 \n",
       "L 18.109375 54.6875 \n",
       "L 18.109375 46.1875 \n",
       "Q 20.953125 51.171875 25.484375 53.578125 \n",
       "Q 30.03125 56 36.53125 56 \n",
       "Q 37.453125 56 38.578125 55.875 \n",
       "Q 39.703125 55.765625 41.0625 55.515625 \n",
       "z\n",
       "\" id=\"DejaVuSans-114\"/>\n",
       "     <path d=\"M 30.609375 48.390625 \n",
       "Q 23.390625 48.390625 19.1875 42.75 \n",
       "Q 14.984375 37.109375 14.984375 27.296875 \n",
       "Q 14.984375 17.484375 19.15625 11.84375 \n",
       "Q 23.34375 6.203125 30.609375 6.203125 \n",
       "Q 37.796875 6.203125 41.984375 11.859375 \n",
       "Q 46.1875 17.53125 46.1875 27.296875 \n",
       "Q 46.1875 37.015625 41.984375 42.703125 \n",
       "Q 37.796875 48.390625 30.609375 48.390625 \n",
       "z\n",
       "M 30.609375 56 \n",
       "Q 42.328125 56 49.015625 48.375 \n",
       "Q 55.71875 40.765625 55.71875 27.296875 \n",
       "Q 55.71875 13.875 49.015625 6.21875 \n",
       "Q 42.328125 -1.421875 30.609375 -1.421875 \n",
       "Q 18.84375 -1.421875 12.171875 6.21875 \n",
       "Q 5.515625 13.875 5.515625 27.296875 \n",
       "Q 5.515625 40.765625 12.171875 48.375 \n",
       "Q 18.84375 56 30.609375 56 \n",
       "z\n",
       "\" id=\"DejaVuSans-111\"/>\n",
       "     <path d=\"M 45.40625 27.984375 \n",
       "Q 45.40625 37.75 41.375 43.109375 \n",
       "Q 37.359375 48.484375 30.078125 48.484375 \n",
       "Q 22.859375 48.484375 18.828125 43.109375 \n",
       "Q 14.796875 37.75 14.796875 27.984375 \n",
       "Q 14.796875 18.265625 18.828125 12.890625 \n",
       "Q 22.859375 7.515625 30.078125 7.515625 \n",
       "Q 37.359375 7.515625 41.375 12.890625 \n",
       "Q 45.40625 18.265625 45.40625 27.984375 \n",
       "z\n",
       "M 54.390625 6.78125 \n",
       "Q 54.390625 -7.171875 48.1875 -13.984375 \n",
       "Q 42 -20.796875 29.203125 -20.796875 \n",
       "Q 24.46875 -20.796875 20.265625 -20.09375 \n",
       "Q 16.0625 -19.390625 12.109375 -17.921875 \n",
       "L 12.109375 -9.1875 \n",
       "Q 16.0625 -11.328125 19.921875 -12.34375 \n",
       "Q 23.78125 -13.375 27.78125 -13.375 \n",
       "Q 36.625 -13.375 41.015625 -8.765625 \n",
       "Q 45.40625 -4.15625 45.40625 5.171875 \n",
       "L 45.40625 9.625 \n",
       "Q 42.625 4.78125 38.28125 2.390625 \n",
       "Q 33.9375 0 27.875 0 \n",
       "Q 17.828125 0 11.671875 7.65625 \n",
       "Q 5.515625 15.328125 5.515625 27.984375 \n",
       "Q 5.515625 40.671875 11.671875 48.328125 \n",
       "Q 17.828125 56 27.875 56 \n",
       "Q 33.9375 56 38.28125 53.609375 \n",
       "Q 42.625 51.21875 45.40625 46.390625 \n",
       "L 45.40625 54.6875 \n",
       "L 54.390625 54.6875 \n",
       "z\n",
       "\" id=\"DejaVuSans-103\"/>\n",
       "    </defs>\n",
       "    <g transform=\"translate(44.694119 16.318125)scale(0.12 -0.12)\">\n",
       "     <use xlink:href=\"#DejaVuSans-102\"/>\n",
       "     <use x=\"35.205078\" xlink:href=\"#DejaVuSans-114\"/>\n",
       "     <use x=\"74.068359\" xlink:href=\"#DejaVuSans-111\"/>\n",
       "     <use x=\"135.25\" xlink:href=\"#DejaVuSans-103\"/>\n",
       "    </g>\n",
       "   </g>\n",
       "  </g>\n",
       "  <g id=\"axes_2\">\n",
       "   <g clip-path=\"url(#p8ab1b99b82)\">\n",
       "    <image height=\"99\" id=\"imagef667fe8d56\" transform=\"scale(1 -1)translate(0 -99)\" width=\"99\" x=\"189.818182\" xlink:href=\"data:image/png;base64,\n",
       "iVBORw0KGgoAAAANSUhEUgAAAGMAAABjCAYAAACPO76VAAAABHNCSVQICAgIfAhkiAAAAP1JREFUeJzt0UENACAQwDDAv+fjiQT2aBUs2Z6ZWSSc3wE8ZoSYEWJGiBkhZoSYEWJGiBkhZoSYEWJGiBkhZoSYEWJGiBkhZoSYEWJGiBkhZoSYEWJGiBkhZoSYEWJGiBkhZoSYEWJGiBkhZoSYEWJGiBkhZoSYEWJGiBkhZoSYEWJGiBkhZoSYEWJGiBkhZoSYEWJGiBkhZoSYEWJGiBkhZoSYEWJGiBkhZoSYEWJGiBkhZoSYEWJGiBkhZoSYEWJGiBkhZoSYEWJGiBkhZoSYEWJGiBkhZoSYEWJGiBkhZoSYEWJGiBkhZoSYEWJGiBkhZoSYEWJGiBkhZoRcy/sEwnzZ1d0AAAAASUVORK5CYII=\" y=\"-22.154489\"/>\n",
       "   </g>\n",
       "   <g id=\"text_2\">\n",
       "    <!-- truck -->\n",
       "    <defs>\n",
       "     <path d=\"M 18.3125 70.21875 \n",
       "L 18.3125 54.6875 \n",
       "L 36.8125 54.6875 \n",
       "L 36.8125 47.703125 \n",
       "L 18.3125 47.703125 \n",
       "L 18.3125 18.015625 \n",
       "Q 18.3125 11.328125 20.140625 9.421875 \n",
       "Q 21.96875 7.515625 27.59375 7.515625 \n",
       "L 36.8125 7.515625 \n",
       "L 36.8125 0 \n",
       "L 27.59375 0 \n",
       "Q 17.1875 0 13.234375 3.875 \n",
       "Q 9.28125 7.765625 9.28125 18.015625 \n",
       "L 9.28125 47.703125 \n",
       "L 2.6875 47.703125 \n",
       "L 2.6875 54.6875 \n",
       "L 9.28125 54.6875 \n",
       "L 9.28125 70.21875 \n",
       "z\n",
       "\" id=\"DejaVuSans-116\"/>\n",
       "     <path d=\"M 8.5 21.578125 \n",
       "L 8.5 54.6875 \n",
       "L 17.484375 54.6875 \n",
       "L 17.484375 21.921875 \n",
       "Q 17.484375 14.15625 20.5 10.265625 \n",
       "Q 23.53125 6.390625 29.59375 6.390625 \n",
       "Q 36.859375 6.390625 41.078125 11.03125 \n",
       "Q 45.3125 15.671875 45.3125 23.6875 \n",
       "L 45.3125 54.6875 \n",
       "L 54.296875 54.6875 \n",
       "L 54.296875 0 \n",
       "L 45.3125 0 \n",
       "L 45.3125 8.40625 \n",
       "Q 42.046875 3.421875 37.71875 1 \n",
       "Q 33.40625 -1.421875 27.6875 -1.421875 \n",
       "Q 18.265625 -1.421875 13.375 4.4375 \n",
       "Q 8.5 10.296875 8.5 21.578125 \n",
       "z\n",
       "M 31.109375 56 \n",
       "z\n",
       "\" id=\"DejaVuSans-117\"/>\n",
       "     <path d=\"M 48.78125 52.59375 \n",
       "L 48.78125 44.1875 \n",
       "Q 44.96875 46.296875 41.140625 47.34375 \n",
       "Q 37.3125 48.390625 33.40625 48.390625 \n",
       "Q 24.65625 48.390625 19.8125 42.84375 \n",
       "Q 14.984375 37.3125 14.984375 27.296875 \n",
       "Q 14.984375 17.28125 19.8125 11.734375 \n",
       "Q 24.65625 6.203125 33.40625 6.203125 \n",
       "Q 37.3125 6.203125 41.140625 7.25 \n",
       "Q 44.96875 8.296875 48.78125 10.40625 \n",
       "L 48.78125 2.09375 \n",
       "Q 45.015625 0.34375 40.984375 -0.53125 \n",
       "Q 36.96875 -1.421875 32.421875 -1.421875 \n",
       "Q 20.0625 -1.421875 12.78125 6.34375 \n",
       "Q 5.515625 14.109375 5.515625 27.296875 \n",
       "Q 5.515625 40.671875 12.859375 48.328125 \n",
       "Q 20.21875 56 33.015625 56 \n",
       "Q 37.15625 56 41.109375 55.140625 \n",
       "Q 45.0625 54.296875 48.78125 52.59375 \n",
       "z\n",
       "\" id=\"DejaVuSans-99\"/>\n",
       "     <path d=\"M 9.078125 75.984375 \n",
       "L 18.109375 75.984375 \n",
       "L 18.109375 31.109375 \n",
       "L 44.921875 54.6875 \n",
       "L 56.390625 54.6875 \n",
       "L 27.390625 29.109375 \n",
       "L 57.625 0 \n",
       "L 45.90625 0 \n",
       "L 18.109375 26.703125 \n",
       "L 18.109375 0 \n",
       "L 9.078125 0 \n",
       "z\n",
       "\" id=\"DejaVuSans-107\"/>\n",
       "    </defs>\n",
       "    <g transform=\"translate(223.841676 16.318125)scale(0.12 -0.12)\">\n",
       "     <use xlink:href=\"#DejaVuSans-116\"/>\n",
       "     <use x=\"39.208984\" xlink:href=\"#DejaVuSans-114\"/>\n",
       "     <use x=\"80.322266\" xlink:href=\"#DejaVuSans-117\"/>\n",
       "     <use x=\"143.701172\" xlink:href=\"#DejaVuSans-99\"/>\n",
       "     <use x=\"198.681641\" xlink:href=\"#DejaVuSans-107\"/>\n",
       "    </g>\n",
       "   </g>\n",
       "  </g>\n",
       "  <g id=\"axes_3\">\n",
       "   <g clip-path=\"url(#p2f17081313)\">\n",
       "    <image height=\"99\" id=\"imagea986eb2867\" transform=\"scale(1 -1)translate(0 -99)\" width=\"99\" x=\"7.2\" xlink:href=\"data:image/png;base64,\n",
       "iVBORw0KGgoAAAANSUhEUgAAAGMAAABjCAYAAACPO76VAAAABHNCSVQICAgIfAhkiAAAAP1JREFUeJzt0UENACAQwDDAv+fjiQT2aBUs2Z6ZWSSc3wE8ZoSYEWJGiBkhZoSYEWJGiBkhZoSYEWJGiBkhZoSYEWJGiBkhZoSYEWJGiBkhZoSYEWJGiBkhZoSYEWJGiBkhZoSYEWJGiBkhZoSYEWJGiBkhZoSYEWJGiBkhZoSYEWJGiBkhZoSYEWJGiBkhZoSYEWJGiBkhZoSYEWJGiBkhZoSYEWJGiBkhZoSYEWJGiBkhZoSYEWJGiBkhZoSYEWJGiBkhZoSYEWJGiBkhZoSYEWJGiBkhZoSYEWJGiBkhZoSYEWJGiBkhZoSYEWJGiBkhZoSYEWJGiBkhZoRcy/sEwnzZ1d0AAAAASUVORK5CYII=\" y=\"-140.758125\"/>\n",
       "   </g>\n",
       "   <g id=\"text_3\">\n",
       "    <!-- truck -->\n",
       "    <g transform=\"translate(41.223494 134.921761)scale(0.12 -0.12)\">\n",
       "     <use xlink:href=\"#DejaVuSans-116\"/>\n",
       "     <use x=\"39.208984\" xlink:href=\"#DejaVuSans-114\"/>\n",
       "     <use x=\"80.322266\" xlink:href=\"#DejaVuSans-117\"/>\n",
       "     <use x=\"143.701172\" xlink:href=\"#DejaVuSans-99\"/>\n",
       "     <use x=\"198.681641\" xlink:href=\"#DejaVuSans-107\"/>\n",
       "    </g>\n",
       "   </g>\n",
       "  </g>\n",
       "  <g id=\"axes_4\">\n",
       "   <g clip-path=\"url(#p3e234c08a2)\">\n",
       "    <image height=\"99\" id=\"image24af8de617\" transform=\"scale(1 -1)translate(0 -99)\" width=\"99\" x=\"189.818182\" xlink:href=\"data:image/png;base64,\n",
       "iVBORw0KGgoAAAANSUhEUgAAAGMAAABjCAYAAACPO76VAAAABHNCSVQICAgIfAhkiAAAAP1JREFUeJzt0UENACAQwDDAv+fjiQT2aBUs2Z6ZWSSc3wE8ZoSYEWJGiBkhZoSYEWJGiBkhZoSYEWJGiBkhZoSYEWJGiBkhZoSYEWJGiBkhZoSYEWJGiBkhZoSYEWJGiBkhZoSYEWJGiBkhZoSYEWJGiBkhZoSYEWJGiBkhZoSYEWJGiBkhZoSYEWJGiBkhZoSYEWJGiBkhZoSYEWJGiBkhZoSYEWJGiBkhZoSYEWJGiBkhZoSYEWJGiBkhZoSYEWJGiBkhZoSYEWJGiBkhZoSYEWJGiBkhZoSYEWJGiBkhZoSYEWJGiBkhZoSYEWJGiBkhZoSYEWJGiBkhZoRcy/sEwnzZ1d0AAAAASUVORK5CYII=\" y=\"-140.758125\"/>\n",
       "   </g>\n",
       "   <g id=\"text_4\">\n",
       "    <!-- cat -->\n",
       "    <defs>\n",
       "     <path d=\"M 34.28125 27.484375 \n",
       "Q 23.390625 27.484375 19.1875 25 \n",
       "Q 14.984375 22.515625 14.984375 16.5 \n",
       "Q 14.984375 11.71875 18.140625 8.90625 \n",
       "Q 21.296875 6.109375 26.703125 6.109375 \n",
       "Q 34.1875 6.109375 38.703125 11.40625 \n",
       "Q 43.21875 16.703125 43.21875 25.484375 \n",
       "L 43.21875 27.484375 \n",
       "z\n",
       "M 52.203125 31.203125 \n",
       "L 52.203125 0 \n",
       "L 43.21875 0 \n",
       "L 43.21875 8.296875 \n",
       "Q 40.140625 3.328125 35.546875 0.953125 \n",
       "Q 30.953125 -1.421875 24.3125 -1.421875 \n",
       "Q 15.921875 -1.421875 10.953125 3.296875 \n",
       "Q 6 8.015625 6 15.921875 \n",
       "Q 6 25.140625 12.171875 29.828125 \n",
       "Q 18.359375 34.515625 30.609375 34.515625 \n",
       "L 43.21875 34.515625 \n",
       "L 43.21875 35.40625 \n",
       "Q 43.21875 41.609375 39.140625 45 \n",
       "Q 35.0625 48.390625 27.6875 48.390625 \n",
       "Q 23 48.390625 18.546875 47.265625 \n",
       "Q 14.109375 46.140625 10.015625 43.890625 \n",
       "L 10.015625 52.203125 \n",
       "Q 14.9375 54.109375 19.578125 55.046875 \n",
       "Q 24.21875 56 28.609375 56 \n",
       "Q 40.484375 56 46.34375 49.84375 \n",
       "Q 52.203125 43.703125 52.203125 31.203125 \n",
       "z\n",
       "\" id=\"DejaVuSans-97\"/>\n",
       "    </defs>\n",
       "    <g transform=\"translate(229.908239 134.921761)scale(0.12 -0.12)\">\n",
       "     <use xlink:href=\"#DejaVuSans-99\"/>\n",
       "     <use x=\"54.980469\" xlink:href=\"#DejaVuSans-97\"/>\n",
       "     <use x=\"116.259766\" xlink:href=\"#DejaVuSans-116\"/>\n",
       "    </g>\n",
       "   </g>\n",
       "  </g>\n",
       " </g>\n",
       " <defs>\n",
       "  <clipPath id=\"pfa9af22a82\">\n",
       "   <rect height=\"98.836364\" width=\"98.836364\" x=\"7.2\" y=\"22.318125\"/>\n",
       "  </clipPath>\n",
       "  <clipPath id=\"p8ab1b99b82\">\n",
       "   <rect height=\"98.836364\" width=\"98.836364\" x=\"189.818182\" y=\"22.318125\"/>\n",
       "  </clipPath>\n",
       "  <clipPath id=\"p2f17081313\">\n",
       "   <rect height=\"98.836364\" width=\"98.836364\" x=\"7.2\" y=\"140.921761\"/>\n",
       "  </clipPath>\n",
       "  <clipPath id=\"p3e234c08a2\">\n",
       "   <rect height=\"98.836364\" width=\"98.836364\" x=\"189.818182\" y=\"140.921761\"/>\n",
       "  </clipPath>\n",
       " </defs>\n",
       "</svg>\n"
      ],
      "text/plain": [
       "<Figure size 432x288 with 4 Axes>"
      ]
     },
     "metadata": {
      "needs_background": "light"
     },
     "output_type": "display_data"
    }
   ],
   "source": [
    "# Load the CIFAR10 dataset\n",
    "from keras.datasets import cifar10\n",
    "baseDir = os.path.dirname(os.path.abspath('__file__')) + '/'\n",
    "classesName = ['plane', 'car', 'bird', 'cat', 'deer', 'dog', 'frog', 'horse', 'ship', 'truck']\n",
    "(xTrain, yTrain), (xTest, yTest) = cifar10.load_data()\n",
    "xVal = xTrain[49000:, :].astype(np.float)\n",
    "yVal = np.squeeze(yTrain[49000:, :])\n",
    "xTrain = xTrain[:49000, :].astype(np.float)\n",
    "yTrain = np.squeeze(yTrain[:49000, :])\n",
    "yTest = np.squeeze(yTest)\n",
    "xTest = xTest.astype(np.float)\n",
    "\n",
    "# Show dimension for each variable\n",
    "print ('Train image shape:    {0}'.format(xTrain.shape))\n",
    "print ('Train label shape:    {0}'.format(yTrain.shape))\n",
    "print ('Validate image shape: {0}'.format(xVal.shape))\n",
    "print ('Validate label shape: {0}'.format(yVal.shape))\n",
    "print ('Test image shape:     {0}'.format(xTest.shape))\n",
    "print ('Test label shape:     {0}'.format(yTest.shape))\n",
    "\n",
    "# Show some CIFAR10 images\n",
    "plt.subplot(221)\n",
    "plt.imshow(xTrain[0], cmap='gray')\n",
    "plt.axis('off')\n",
    "plt.title(classesName[yTrain[0]])\n",
    "plt.subplot(222)\n",
    "plt.imshow(xTrain[1])\n",
    "plt.axis('off')\n",
    "plt.title(classesName[yTrain[1]])\n",
    "plt.subplot(223)\n",
    "plt.imshow(xVal[0])\n",
    "plt.axis('off')\n",
    "plt.title(classesName[yVal[1]])\n",
    "plt.subplot(224)\n",
    "plt.imshow(xTest[0])\n",
    "plt.axis('off')\n",
    "plt.title(classesName[yTest[0]])\n",
    "plt.savefig(baseDir+'svm0.png')\n",
    "# plt.clf()\n",
    "plt.show()\n",
    "# print(xTrain[0])"
   ]
  },
  {
   "cell_type": "markdown",
   "metadata": {},
   "source": [
    "## Reshaping Data into a Vector and Normalizing it (-1 to 1)"
   ]
  },
  {
   "cell_type": "code",
   "execution_count": 3,
   "metadata": {},
   "outputs": [
    {
     "name": "stdout",
     "output_type": "stream",
     "text": [
      "(49000, 32, 32, 3)\n",
      "(49000,)\n",
      "(49000, 3072)\n",
      "[  59.   62.   63. ...,  123.   92.   72.]\n",
      "(49000, 3072)\n",
      "[-0.5372549  -0.51372549 -0.50588235 ..., -0.03529412 -0.27843137\n",
      " -0.43529412]\n"
     ]
    }
   ],
   "source": [
    "print(xTrain.shape)\n",
    "print(yTrain.shape)\n",
    "xTrain = np.reshape(xTrain, (xTrain.shape[0], -1)) # The -1 means that the corresponding dimension is calculated from the other given dimensions.\n",
    "xVal = np.reshape(xVal, (xVal.shape[0], -1))\n",
    "xTest = np.reshape(xTest, (xTest.shape[0], -1))\n",
    "print(xTrain.shape) \n",
    "print(xTrain[0])\n",
    "\n",
    "#Normalize \n",
    "xTrain=((xTrain/255)*2)-1 \n",
    "print(xTrain.shape)\n",
    "print(xTrain[0])\n"
   ]
  },
  {
   "cell_type": "code",
   "execution_count": 4,
   "metadata": {},
   "outputs": [
    {
     "name": "stdout",
     "output_type": "stream",
     "text": [
      "[6 9 9 ..., 6 6 4]\n",
      "(3000, 3072)\n",
      "(3000,)\n"
     ]
    }
   ],
   "source": [
    "#Choosing a smaller dataset\n",
    "xTrain=xTrain[:3000,:]\n",
    "yTrain=yTrain[:3000]\n",
    "print(yTrain)\n",
    "print(xTrain.shape)\n",
    "print(yTrain.shape)"
   ]
  },
  {
   "cell_type": "markdown",
   "metadata": {},
   "source": [
    "## SVM Linear Kernel"
   ]
  },
  {
   "cell_type": "code",
   "execution_count": 8,
   "metadata": {
    "collapsed": true
   },
   "outputs": [],
   "source": [
    "from sklearn import svm\n",
    "\n",
    "def svm_linear(c):\n",
    "    svc = svm.SVC(probability = False, kernel = 'linear', C = c)\n",
    "    \n",
    "    svc.fit(xTrain, yTrain) \n",
    "    \n",
    "    # Find the prediction and accuracy on the training set.\n",
    "    Yhat_svc_linear_train = svc.predict(xTrain)\n",
    "    acc_train = np.mean(Yhat_svc_linear_train == yTrain)\n",
    "    acc_train_svm_linear.append(acc_train)\n",
    "    print('Train Accuracy = {0:f}'.format(acc_train))\n",
    "    \n",
    "    # Find the prediction and accuracy on the test set.\n",
    "    Yhat_svc_linear_test = svc.predict(xVal)\n",
    "    acc_test = np.mean(Yhat_svc_linear_test == yVal)\n",
    "    acc_test_svm_linear.append(acc_test)\n",
    "    print('Test Accuracy = {0:f}'.format(acc_test)) \n",
    "    \n",
    "    "
   ]
  },
  {
   "cell_type": "code",
   "execution_count": 13,
   "metadata": {},
   "outputs": [
    {
     "name": "stdout",
     "output_type": "stream",
     "text": [
      "Train Accuracy = 0.354667\n",
      "Test Accuracy = 0.098000\n",
      "Train Accuracy = 0.484667\n",
      "Test Accuracy = 0.188000\n",
      "Train Accuracy = 0.709333\n",
      "Test Accuracy = 0.253000\n",
      "Train Accuracy = 0.989667\n",
      "Test Accuracy = 0.286000\n",
      "Train Accuracy = 1.000000\n",
      "Test Accuracy = 0.279000\n",
      "Train Accuracy = 1.000000\n",
      "Test Accuracy = 0.279000\n",
      "Train Accuracy = 1.000000\n",
      "Test Accuracy = 0.279000\n"
     ]
    },
    {
     "data": {
      "image/png": "[encoded data removed]",
      "text/plain": [
       "<matplotlib.figure.Figure at 0x247fdfa2b00>"
      ]
     },
     "metadata": {},
     "output_type": "display_data"
    }
   ],
   "source": [
    "c_svm_linear = [0.0001,0.001,0.01,0.1,1,10,100]\n",
    "acc_train_svm_linear = []\n",
    "acc_test_svm_linear = []\n",
    "\n",
    "for c in c_svm_linear:\n",
    "    svm_linear(c)\n",
    "\n",
    "plt.plot(c_svm_linear, acc_train_svm_linear,'.-',color='red')\n",
    "plt.plot(c_svm_linear, acc_test_svm_linear,'.-',color='orange')\n",
    "plt.xlabel('c')\n",
    "plt.ylabel('Accuracy')\n",
    "plt.title(\"Plot of accuracy vs c for training and test data\")\n",
    "plt.grid()"
   ]
  },
  {
   "cell_type": "markdown",
   "metadata": {},
   "source": [
    "## SVM Polynomial Kernel"
   ]
  },
  {
   "cell_type": "code",
   "execution_count": 9,
   "metadata": {
    "collapsed": true
   },
   "outputs": [],
   "source": [
    "acc_train_svm_poly = []\n",
    "acc_test_svm_poly = []\n",
    "\n",
    "def svm_polynomial(c):\n",
    "\n",
    "    svc_polynomial = svm.SVC(probability = False, kernel = 'poly', C = c)\n",
    "    \n",
    "    \n",
    "    svc_polynomial.fit(xTrain, yTrain) \n",
    "    \n",
    "    # Find the prediction and accuracy on the training set.\n",
    "    Yhat_svc_polynomial_train = svc_polynomial.predict(xTrain)\n",
    "    acc_train = np.mean(Yhat_svc_polynomial_train == yTrain)\n",
    "    acc_train_svm_poly.append(acc_train)\n",
    "    print('Accuracy = {0:f}'.format(acc_train))\n",
    "    \n",
    "    # Find the prediction and accuracy on the test set.\n",
    "    Yhat_svc_polynomial_test = svc_polynomial.predict(xVal)\n",
    "    acc_test = np.mean(Yhat_svc_polynomial_test == yVal)\n",
    "    acc_test_svm_poly.append(acc_test)\n",
    "    print('Accuracy = {0:f}'.format(acc_test))"
   ]
  },
  {
   "cell_type": "code",
   "execution_count": 19,
   "metadata": {},
   "outputs": [
    {
     "name": "stdout",
     "output_type": "stream",
     "text": [
      "Accuracy = 0.107333\n",
      "Accuracy = 0.087000\n",
      "Accuracy = 0.107333\n",
      "Accuracy = 0.087000\n",
      "Accuracy = 0.107333\n",
      "Accuracy = 0.087000\n",
      "Accuracy = 0.107333\n",
      "Accuracy = 0.087000\n",
      "Accuracy = 0.139333\n",
      "Accuracy = 0.087000\n",
      "Accuracy = 0.335667\n",
      "Accuracy = 0.151000\n",
      "Accuracy = 0.804000\n",
      "Accuracy = 0.267000\n"
     ]
    },
    {
     "data": {
      "image/png": "[encoded data removed]",
      "text/plain": [
       "<matplotlib.figure.Figure at 0x247855eff28>"
      ]
     },
     "metadata": {},
     "output_type": "display_data"
    }
   ],
   "source": [
    "c_svm_poly = [0.0001,0.001,0.01,0.1,1,10,100]\n",
    "\n",
    "\n",
    "for c in c_svm_poly:\n",
    "    svm_polynomial(c)\n",
    "\n",
    "plt.plot(c_svm_poly, acc_train_svm_poly,'.-',color='red')\n",
    "plt.plot(c_svm_poly, acc_test_svm_poly,'.-',color='orange')\n",
    "plt.xlabel('c')\n",
    "plt.ylabel('Accuracy')\n",
    "plt.title(\"Plot of accuracy vs c for training and test data\")\n",
    "plt.grid()"
   ]
  },
  {
   "cell_type": "code",
   "execution_count": 10,
   "metadata": {},
   "outputs": [
    {
     "name": "stdout",
     "output_type": "stream",
     "text": [
      "Accuracy = 0.890667\n",
      "Accuracy = 0.263000\n",
      "Accuracy = 0.953333\n",
      "Accuracy = 0.263000\n",
      "Accuracy = 0.977667\n",
      "Accuracy = 0.259000\n"
     ]
    }
   ],
   "source": [
    "#Try more values of c for polynomial kernel.\n",
    "c_svm_poly_extended=[200,500,1000]\n",
    "for c in c_svm_poly_extended:\n",
    "    svm_polynomial(c)"
   ]
  },
  {
   "cell_type": "markdown",
   "metadata": {},
   "source": [
    "## SVM RBF Kernel"
   ]
  },
  {
   "cell_type": "code",
   "execution_count": 20,
   "metadata": {
    "collapsed": true
   },
   "outputs": [],
   "source": [
    "def svm_rbf(c, g):\n",
    "    svc_rbf = svm.SVC(probability = False, kernel = 'rbf', C = c, gamma = g)\n",
    "    \n",
    "    # Fit the classifier on the training set.\n",
    "    svc_rbf.fit(xTrain, yTrain) \n",
    "    \n",
    "    # Find the prediction and accuracy on the training set.\n",
    "    Yhat_svc_rbf_train = svc_rbf.predict(xTrain)\n",
    "    acc = np.mean(Yhat_svc_rbf_train == yTrain)\n",
    "    print('Train Accuracy = {0:f}'.format(acc))\n",
    "    acc_train_svm_rbf.append(acc)\n",
    "    \n",
    "    # Find the prediction and accuracy on the test set.\n",
    "    Yhat_svc_rbf_test = svc_rbf.predict(xVal)\n",
    "    acc = np.mean(Yhat_svc_rbf_test == yVal)\n",
    "    print('Test Accuracy = {0:f}'.format(acc))\n",
    "    acc_test_svm_rbf.append(acc)"
   ]
  },
  {
   "cell_type": "code",
   "execution_count": 21,
   "metadata": {},
   "outputs": [
    {
     "name": "stdout",
     "output_type": "stream",
     "text": [
      "Train Accuracy = 0.107333\n",
      "Test Accuracy = 0.079000\n",
      "Train Accuracy = 0.107333\n",
      "Test Accuracy = 0.079000\n",
      "Train Accuracy = 0.107333\n",
      "Test Accuracy = 0.079000\n",
      "Train Accuracy = 0.307333\n",
      "Test Accuracy = 0.119000\n",
      "Train Accuracy = 0.487333\n",
      "Test Accuracy = 0.119000\n",
      "Train Accuracy = 0.848333\n",
      "Test Accuracy = 0.105000\n",
      "Train Accuracy = 1.000000\n",
      "Test Accuracy = 0.119000\n"
     ]
    },
    {
     "data": {
      "image/png": "[encoded data removed]",
      "text/plain": [
       "<matplotlib.figure.Figure at 0x247e1dbcf28>"
      ]
     },
     "metadata": {},
     "output_type": "display_data"
    }
   ],
   "source": [
    "acc_train_svm_rbf= []\n",
    "acc_test_svm_rbf = []\n",
    "c_svm_rbf = [0.0001,0.001,0.01,0.1,1,10,100]\n",
    "\n",
    "for c in c_svm_rbf:\n",
    "     svm_rbf(c, 'auto')\n",
    "    \n",
    "plt.plot(c_svm_rbf, acc_train_svm_rbf,'.-',color='red')\n",
    "plt.plot(c_svm_rbf, acc_test_svm_rbf,'.-',color='orange')\n",
    "plt.xlabel('c')\n",
    "plt.ylabel('Accuracy')\n",
    "plt.title(\"Plot of accuracy vs c for training and test data\")\n",
    "plt.grid()\n",
    "    "
   ]
  },
  {
   "cell_type": "markdown",
   "metadata": {
    "collapsed": true
   },
   "source": [
    "## SUMMARIZING RESULTS FOR THE 3 KERNELS"
   ]
  },
  {
   "cell_type": "code",
   "execution_count": 28,
   "metadata": {},
   "outputs": [
    {
     "name": "stdout",
     "output_type": "stream",
     "text": [
      "SVM Linear Training Accuracy =  [0.35499999999999998, 0.48499999999999999, 0.70899999999999996, 0.98999999999999999, 1.0, 1.0, 1.0]\n",
      "SVM Linear Test Accuracy =  [0.098000000000000004, 0.188, 0.253, 0.28599999999999998, 0.27900000000000003, 0.27900000000000003, 0.27900000000000003]\n",
      "SVM Polynomial Training Accuracy =  [0.107, 0.107, 0.107, 0.107, 0.13900000000000001, 0.33600000000000002, 0.80400000000000005]\n",
      "SVM Polynomial Test Accuracy =  [0.086999999999999994, 0.086999999999999994, 0.086999999999999994, 0.086999999999999994, 0.086999999999999994, 0.151, 0.26700000000000002]\n",
      "SVM RBF Training Accuracy =  [0.107, 0.107, 0.107, 0.307, 0.48699999999999999, 0.84799999999999998, 1.0]\n",
      "SVM RBF Test Accuracy =  [0.079000000000000001, 0.079000000000000001, 0.079000000000000001, 0.11899999999999999, 0.11899999999999999, 0.105, 0.11899999999999999]\n"
     ]
    }
   ],
   "source": [
    "# for i in range(len(acc_train_svm_linear)): \n",
    "#     acc_train_svm_linear[i]=round(acc_train_svm_linear[i],3)\n",
    "#     acc_test_svm_linear[i]=round(acc_test_svm_linear[i],3)\n",
    "#     acc_train_svm_poly[i]=round(acc_train_svm_poly[i],3)\n",
    "#     acc_test_svm_poly[i]=round(acc_test_svm_poly[i],3)\n",
    "#     acc_train_svm_rbf[i]=round(acc_train_svm_rbf[i],3)\n",
    "#     acc_test_svm_rbf[i]=round(acc_test_svm_rbf[i],3)\n",
    "    \n",
    "\n",
    "    \n",
    "print(\"SVM Linear Training Accuracy = \", acc_train_svm_linear)\n",
    "print(\"SVM Linear Test Accuracy = \", acc_test_svm_linear)\n",
    "print(\"SVM Polynomial Training Accuracy = \", acc_train_svm_poly)\n",
    "print(\"SVM Polynomial Test Accuracy = \", acc_test_svm_poly)\n",
    "print(\"SVM RBF Training Accuracy = \", acc_train_svm_rbf)\n",
    "print(\"SVM RBF Test Accuracy = \", acc_test_svm_rbf)"
   ]
  },
  {
   "cell_type": "markdown",
   "metadata": {},
   "source": [
    "## BEST MODEL (LINEAR KERNEL WITH C=0.1)"
   ]
  },
  {
   "cell_type": "code",
   "execution_count": 4,
   "metadata": {},
   "outputs": [
    {
     "name": "stderr",
     "output_type": "stream",
     "text": [
      "Using TensorFlow backend.\n"
     ]
    },
    {
     "name": "stdout",
     "output_type": "stream",
     "text": [
      "(49000, 32, 32, 3)\n",
      "(49000,)\n",
      "(49000, 3072)\n",
      "[  59.   62.   63. ...,  123.   92.   72.]\n",
      "(49000, 3072)\n",
      "[-0.5372549  -0.51372549 -0.50588235 ..., -0.03529412 -0.27843137\n",
      " -0.43529412]\n"
     ]
    }
   ],
   "source": [
    "#Train with 10000 examples with linear kernel (c=0.1)\n",
    "\n",
    "# Load the CIFAR10 dataset\n",
    "from keras.datasets import cifar10\n",
    "baseDir = os.path.dirname(os.path.abspath('__file__')) + '/'\n",
    "classesName = ['plane', 'car', 'bird', 'cat', 'deer', 'dog', 'frog', 'horse', 'ship', 'truck']\n",
    "(xTrain, yTrain), (xTest, yTest) = cifar10.load_data()\n",
    "xVal = xTrain[49000:, :].astype(np.float)\n",
    "yVal = np.squeeze(yTrain[49000:, :])\n",
    "xTrain = xTrain[:49000, :].astype(np.float)\n",
    "yTrain = np.squeeze(yTrain[:49000, :])\n",
    "yTest = np.squeeze(yTest)\n",
    "xTest = xTest.astype(np.float)\n",
    "\n",
    "print(xTrain.shape)\n",
    "print(yTrain.shape)\n",
    "xTrain = np.reshape(xTrain, (xTrain.shape[0], -1)) # The -1 means that the corresponding dimension is calculated from the other given dimensions.\n",
    "xVal = np.reshape(xVal, (xVal.shape[0], -1))\n",
    "xTest = np.reshape(xTest, (xTest.shape[0], -1))\n",
    "print(xTrain.shape) \n",
    "print(xTrain[0])\n",
    "\n",
    "#Normalize\n",
    "xTrain=((xTrain/255)*2)-1 \n",
    "print(xTrain.shape)\n",
    "print(xTrain[0])"
   ]
  },
  {
   "cell_type": "code",
   "execution_count": 9,
   "metadata": {},
   "outputs": [
    {
     "name": "stdout",
     "output_type": "stream",
     "text": [
      "[6 9 9 ..., 1 1 5]\n",
      "(10000, 3072)\n",
      "(10000,)\n"
     ]
    },
    {
     "data": {
      "text/plain": [
       "SVC(C=0.1, cache_size=200, class_weight=None, coef0=0.0,\n",
       "  decision_function_shape='ovr', degree=3, gamma='auto', kernel='linear',\n",
       "  max_iter=-1, probability=False, random_state=None, shrinking=True,\n",
       "  tol=0.001, verbose=False)"
      ]
     },
     "execution_count": 9,
     "metadata": {},
     "output_type": "execute_result"
    }
   ],
   "source": [
    "xTrain=xTrain[:10000,:]\n",
    "yTrain=yTrain[:10000]\n",
    "print(yTrain)\n",
    "print(xTrain.shape)\n",
    "print(yTrain.shape)\n",
    "\n",
    "from sklearn import svm\n",
    "svc = svm.SVC(probability = False, kernel = 'linear', C = 0.1)\n",
    "svc.fit(xTrain, yTrain)"
   ]
  },
  {
   "cell_type": "code",
   "execution_count": 10,
   "metadata": {},
   "outputs": [
    {
     "name": "stdout",
     "output_type": "stream",
     "text": [
      "Test Accuracy = 0.293000\n"
     ]
    }
   ],
   "source": [
    "Yhat_svc_linear_test = svc.predict(xVal)\n",
    "acc_test = np.mean(Yhat_svc_linear_test == yVal)\n",
    "print('Test Accuracy = {0:f}'.format(acc_test)) "
   ]
  },
  {
   "cell_type": "code",
   "execution_count": 9,
   "metadata": {
    "collapsed": true
   },
   "outputs": [],
   "source": [
    "def plt_img(x):\n",
    "    nrow = 32\n",
    "    ncol = 32\n",
    "    ncolors=3\n",
    "    xsq = x.reshape((nrow,ncol,ncolors))\n",
    "    plt.imshow(xsq)\n",
    "#     plt.xticks([])\n",
    "#     plt.yticks([])"
   ]
  },
  {
   "cell_type": "code",
   "execution_count": 10,
   "metadata": {},
   "outputs": [
    {
     "data": {
      "image/png": "[encoded data removed]",
      "text/plain": [
       "<matplotlib.figure.Figure at 0x247ddaf7748>"
      ]
     },
     "metadata": {},
     "output_type": "display_data"
    }
   ],
   "source": [
    "#Plotting some of the errors\n",
    "Ierr = np.where((Yhat_svc_linear_test != yVal))[0]\n",
    "nplt = 4\n",
    "plt.figure(figsize=(10, 4))\n",
    "for i in range(nplt):        \n",
    "    plt.subplot(1,nplt,i+1)        \n",
    "    ind = Ierr[i]    \n",
    "    plt_img(xVal[ind,:])        \n",
    "    title = 'true={0:s} est={1:s}'.format(classesName[yVal[ind].astype(int)], classesName[Yhat_svc_linear_test[ind].astype(int)])\n",
    "    plt.title(title)"
   ]
  },
  {
   "cell_type": "markdown",
   "metadata": {},
   "source": [
    "## Without Normalization (using original pixel values 0-255) "
   ]
  },
  {
   "cell_type": "code",
   "execution_count": 2,
   "metadata": {},
   "outputs": [
    {
     "name": "stdout",
     "output_type": "stream",
     "text": [
      "(49000, 32, 32, 3)\n",
      "(49000,)\n",
      "(49000, 3072)\n",
      "[  59.   62.   63. ...,  123.   92.   72.]\n",
      "[6 9 9 ..., 1 1 5]\n",
      "(10000, 3072)\n",
      "(10000,)\n",
      "Test Accuracy = 0.306000\n"
     ]
    }
   ],
   "source": [
    "import os\n",
    "import time\n",
    "import numpy as np\n",
    "\n",
    "\n",
    "import matplotlib.pyplot as plt\n",
    "import matplotlib as mpl\n",
    "%matplotlib inline\n",
    "\n",
    "\n",
    "# Load the CIFAR10 dataset\n",
    "from keras.datasets import cifar10\n",
    "baseDir = os.path.dirname(os.path.abspath('__file__')) + '/'\n",
    "classesName = ['plane', 'car', 'bird', 'cat', 'deer', 'dog', 'frog', 'horse', 'ship', 'truck']\n",
    "(xTrain, yTrain), (xTest, yTest) = cifar10.load_data()\n",
    "xVal = xTrain[49000:, :].astype(np.float)\n",
    "yVal = np.squeeze(yTrain[49000:, :])\n",
    "xTrain = xTrain[:49000, :].astype(np.float)\n",
    "yTrain = np.squeeze(yTrain[:49000, :])\n",
    "yTest = np.squeeze(yTest)\n",
    "xTest = xTest.astype(np.float)\n",
    "\n",
    "print(xTrain.shape)\n",
    "print(yTrain.shape)\n",
    "xTrain = np.reshape(xTrain, (xTrain.shape[0], -1)) # The -1 means that the corresponding dimension is calculated from the other given dimensions.\n",
    "xVal = np.reshape(xVal, (xVal.shape[0], -1))\n",
    "xTest = np.reshape(xTest, (xTest.shape[0], -1))\n",
    "print(xTrain.shape) \n",
    "print(xTrain[0])\n",
    "\n",
    "# #Normalize \n",
    "# xTrain=((xTrain/255)*2)-1 \n",
    "# print(xTrain.shape)\n",
    "# print(xTrain[0])\n",
    "\n",
    "#Running SVM \n",
    "xTrain=xTrain[:10000,:]\n",
    "yTrain=yTrain[:10000]\n",
    "print(yTrain)\n",
    "print(xTrain.shape)\n",
    "print(yTrain.shape)\n",
    "from sklearn import svm\n",
    "svc = svm.SVC(probability=False,  kernel=\"linear\", C=0.1)\n",
    "svc.fit(xTrain, yTrain)\n",
    "\n",
    "Yhat_svc_linear_test = svc.predict(xVal)\n",
    "acc_test = np.mean(Yhat_svc_linear_test == yVal)\n",
    "print('Test Accuracy = {0:f}'.format(acc_test)) \n"
   ]
  },
  {
   "cell_type": "markdown",
   "metadata": {},
   "source": [
    "## With Mean Normalization "
   ]
  },
  {
   "cell_type": "code",
   "execution_count": 4,
   "metadata": {},
   "outputs": [
    {
     "name": "stdout",
     "output_type": "stream",
     "text": [
      "(32, 32, 3)\n",
      "---------------------\n",
      "(49000, 32, 32, 3)\n",
      "(49000,)\n",
      "(49000, 3072)\n",
      "[-71.64189796 -73.98173469 -69.47391837 ...,  -3.64218367 -33.86195918\n",
      " -42.39957143]\n",
      "[6 9 9 ..., 1 1 5]\n",
      "(10000, 3072)\n",
      "(10000,)\n",
      "Test Accuracy = 0.306000\n"
     ]
    }
   ],
   "source": [
    "import os\n",
    "import time\n",
    "import numpy as np\n",
    "\n",
    "\n",
    "import matplotlib.pyplot as plt\n",
    "import matplotlib as mpl\n",
    "%matplotlib inline\n",
    "\n",
    "\n",
    "# Load the CIFAR10 dataset\n",
    "from keras.datasets import cifar10\n",
    "baseDir = os.path.dirname(os.path.abspath('__file__')) + '/'\n",
    "classesName = ['plane', 'car', 'bird', 'cat', 'deer', 'dog', 'frog', 'horse', 'ship', 'truck']\n",
    "(xTrain, yTrain), (xTest, yTest) = cifar10.load_data()\n",
    "xVal = xTrain[49000:, :].astype(np.float)\n",
    "yVal = np.squeeze(yTrain[49000:, :])\n",
    "xTrain = xTrain[:49000, :].astype(np.float)\n",
    "yTrain = np.squeeze(yTrain[:49000, :])\n",
    "yTest = np.squeeze(yTest)\n",
    "xTest = xTest.astype(np.float)\n",
    "\n",
    "\n",
    "meanImage = np.mean(xTrain, axis=0)\n",
    "print(meanImage.shape)\n",
    "print('---------------------')\n",
    "xTrain -= meanImage\n",
    "xVal -= meanImage\n",
    "xTest -= meanImage\n",
    "\n",
    "\n",
    "\n",
    "print(xTrain.shape)\n",
    "print(yTrain.shape)\n",
    "xTrain = np.reshape(xTrain, (xTrain.shape[0], -1)) # The -1 means that the corresponding dimension is calculated from the other given dimensions.\n",
    "xVal = np.reshape(xVal, (xVal.shape[0], -1))\n",
    "xTest = np.reshape(xTest, (xTest.shape[0], -1))\n",
    "print(xTrain.shape) \n",
    "print(xTrain[0])\n",
    "\n",
    "\n",
    "\n",
    "#Running SVM \n",
    "xTrain=xTrain[:10000,:]\n",
    "yTrain=yTrain[:10000]\n",
    "print(yTrain)\n",
    "print(xTrain.shape)\n",
    "print(yTrain.shape)\n",
    "from sklearn import svm\n",
    "svc = svm.SVC(probability=False,  kernel=\"linear\", C=0.1)\n",
    "svc.fit(xTrain, yTrain)\n",
    "\n",
    "Yhat_svc_linear_test = svc.predict(xVal)\n",
    "acc_test = np.mean(Yhat_svc_linear_test == yVal)\n",
    "print('Test Accuracy = {0:f}'.format(acc_test)) \n",
    "\n",
    "\n"
   ]
  },
  {
   "cell_type": "code",
   "execution_count": null,
   "metadata": {
    "collapsed": true
   },
   "outputs": [],
   "source": []
  }
 ],
 "metadata": {
  "kernelspec": {
   "display_name": "Python 3",
   "language": "python",
   "name": "python3"
  },
  "language_info": {
   "codemirror_mode": {
    "name": "ipython",
    "version": 3
   },
   "file_extension": ".py",
   "mimetype": "text/x-python",
   "name": "python",
   "nbconvert_exporter": "python",
   "pygments_lexer": "ipython3",
   "version": "3.8.5"
  }
 },
 "nbformat": 4,
 "nbformat_minor": 2
}
