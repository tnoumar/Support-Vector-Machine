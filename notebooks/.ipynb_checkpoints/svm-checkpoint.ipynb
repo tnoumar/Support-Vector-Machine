{
 "cells": [
  {
   "cell_type": "markdown",
   "id": "conventional-holmes",
   "metadata": {},
   "source": [
    "# SVM Machine à vecteurs de support.\n",
    "\n",
    "Implémentation de l'algorithme SVM pour un noyau linéaire avec un taux d'apprentissage 0.0001 sur un dataset (train,test):(80,20) distribué selon une loi normale.\n",
    "\n",
    "Le notebook est décomposé en trois phases essentielles:\n",
    "\n",
    "\n",
    "* Génération du dataset\n",
    "* Apprentissage\n",
    "* Tests et prédictions"
   ]
  },
  {
   "cell_type": "markdown",
   "id": "bored-kruger",
   "metadata": {},
   "source": [
    "## IMPORTS:"
   ]
  },
  {
   "cell_type": "code",
   "execution_count": 14,
   "id": "imperial-signature",
   "metadata": {},
   "outputs": [],
   "source": [
    "import numpy as np\n",
    "from collections import Counter\n",
    "from sklearn.datasets import make_blobs\n",
    "from matplotlib import pyplot as plt\n",
    "import matplotlib.patches as mpatches\n",
    "%matplotlib inline"
   ]
  },
  {
   "cell_type": "markdown",
   "id": "hidden-likelihood",
   "metadata": {},
   "source": [
    "## Création du dataset d'appretissage: \n",
    "\n",
    "make_blobs génére **n_sample** points. Le paramètre **centers** défini le nombre de *clusters* de points.\n",
    "Par la suite, une conversion des classes d'appartenance de points de {0,1} à {-1,1}. (plus d'infos: regarder la doc)."
   ]
  },
  {
   "cell_type": "code",
   "execution_count": 15,
   "id": "champion-thong",
   "metadata": {},
   "outputs": [
    {
     "name": "stdout",
     "output_type": "stream",
     "text": [
      "Counter({-1: 40, 1: 40})\n"
     ]
    }
   ],
   "source": [
    "# define dataset\n",
    "X, y = make_blobs(n_samples=80, centers=2, random_state=6) #makeblob generates a dataset of \"centers\" classes, random state\n",
    "\n",
    "# classes en 1 et -1\n",
    "for feature in y:\n",
    "     if feature == 0 :\n",
    "         indice=np.where(y==0)\n",
    "         y[indice]=-1\n",
    "     else:\n",
    "         continue\n",
    "# visualisation des classes\n",
    "counter = Counter(y)\n",
    "print(counter)"
   ]
  },
  {
   "cell_type": "code",
   "execution_count": 16,
   "id": "dated-vitamin",
   "metadata": {},
   "outputs": [
    {
     "data": {
      "image/png": "[encoded data removed]",
      "text/plain": [
       "<Figure size 432x288 with 1 Axes>"
      ]
     },
     "metadata": {
      "needs_background": "light"
     },
     "output_type": "display_data"
    }
   ],
   "source": [
    "# representer le dataset et plot\n",
    "for label, _ in counter.items(): # for label in y:\n",
    "\n",
    "\trow_ix = np.where(y == label)[0]\n",
    "\tplt.scatter(X[row_ix, 0], X[row_ix, 1], label=label)\n",
    "plt.legend()\n",
    "plt.title(\"Dataset d'apprentissage généré par sklearn.datasets\")\n",
    "plt.show()\n"
   ]
  },
  {
   "cell_type": "markdown",
   "id": "loose-complaint",
   "metadata": {},
   "source": [
    "### Algorithme SVM optimisé par descente de gradient renvoit le vecteur w (poids de l'hyperplan)"
   ]
  },
  {
   "cell_type": "code",
   "execution_count": 17,
   "id": "shaped-opera",
   "metadata": {},
   "outputs": [],
   "source": [
    "#methode du gradient\n",
    "def svm_gradient_decent_plot(X, Y):\n",
    "    w = np.zeros(len(X[0]))\n",
    "    #The learning rate\n",
    "    eta = 0.0001\n",
    "    #how many iterations to train for\n",
    "    epochs = 10000\n",
    "    # store errors \n",
    "    errors = []\n",
    "\n",
    "    #training part, gradient descent part\n",
    "    for epoch in range(1,epochs):\n",
    "        error = 0\n",
    "        for i, x in enumerate(X):\n",
    "            #misclassification\n",
    "            if (Y[i]*np.dot(X[i], w)) < 1:\n",
    "                #misclassified update for ours weights\n",
    "                w = w + eta * ( (X[i] * Y[i]) + (-2  *(1/epoch)* w) )\n",
    "                error = 1\n",
    "            else:\n",
    "                #correct classification, update our weights\n",
    "                w = w + eta * (-2  *(1/epoch)* w)\n",
    "        errors.append(error)\n",
    "        \n",
    "\n",
    "    # plot le taux d'erreur\n",
    "    plt.plot(errors,'|')\n",
    "    plt.ylim(0.5,1.5)\n",
    "    plt.axes().set_yticklabels([])\n",
    "    plt.xlabel('Epoch')\n",
    "    plt.ylabel('Erreurs')\n",
    "    plt.show()\n",
    "    \n",
    "    return w\n"
   ]
  },
  {
   "cell_type": "markdown",
   "id": "tough-pitch",
   "metadata": {},
   "source": [
    "### Fonction *predict* qui renvoit la classe de l'élément en son entrée"
   ]
  },
  {
   "cell_type": "code",
   "execution_count": 18,
   "id": "senior-jones",
   "metadata": {},
   "outputs": [],
   "source": [
    "#svm_predict\n",
    "def svm_predict( X,w):\n",
    "        approx = np.dot(X,w)  \n",
    "        return np.sign(approx)"
   ]
  },
  {
   "cell_type": "markdown",
   "id": "talented-picnic",
   "metadata": {},
   "source": [
    "## Apprentissage du dataset par le modèle.\n",
    "\n",
    "SVM maximise la marge entre les deux classes se basant sur le dataset en entrée, le taux d'apprentissage *eta* détermine la précision du modèle, et est inversement proportionnelle à la l'amplitude de la marge. Il faudra choisir un taux d'apprentissage optimal.(Ce dernier fixé à 0.0001 dans cet exemple).\n",
    "La phase d'apprentissage, dans notre cas, retourne le vecteur *w*. Le taux d'erreur de classification diminue au fur et à mesure des epoch : itération d'apprentissage."
   ]
  },
  {
   "cell_type": "code",
   "execution_count": 20,
   "id": "multiple-uganda",
   "metadata": {
    "tags": [
     "outputPrepend"
    ]
   },
   "outputs": [
    {
     "name": "stderr",
     "output_type": "stream",
     "text": [
      "<ipython-input-17-b53b91a5867b>:29: MatplotlibDeprecationWarning: Adding an axes using the same arguments as a previous axes currently reuses the earlier instance.  In a future version, a new instance will always be created and returned.  Meanwhile, this warning can be suppressed, and the future behavior ensured, by passing a unique label to each axes instance.\n",
      "  plt.axes().set_yticklabels([])\n"
     ]
    },
    {
     "data": {
      "image/png": "[encoded data removed]",
      "text/plain": [
       "<Figure size 432x288 with 1 Axes>"
      ]
     },
     "metadata": {
      "needs_background": "light"
     },
     "output_type": "display_data"
    },
    {
     "data": {
      "text/plain": [
       "[<matplotlib.lines.Line2D at 0x7f6001f47880>]"
      ]
     },
     "execution_count": 20,
     "metadata": {},
     "output_type": "execute_result"
    },
    {
     "data": {
      "image/png": "[encoded data removed]",
      "text/plain": [
       "<Figure size 432x288 with 1 Axes>"
      ]
     },
     "metadata": {
      "needs_background": "light"
     },
     "output_type": "display_data"
    }
   ],
   "source": [
    "w = svm_gradient_decent_plot(X,y) #apprentissage\n",
    "\n",
    "for d, sample in enumerate(X):\n",
    "    \n",
    "    # Plot the negative points\n",
    "    if y[d]<0:\n",
    "        plt.scatter(sample[0], sample[1],c='red', linewidths=1)\n",
    "    # Plot the positivecoordinates\n",
    "    else:\n",
    "        plt.scatter(sample[0], sample[1], c='blue', linewidths=1)\n",
    "\n",
    "ax=plt.gca()\n",
    "xlim=ax.get_xlim()\n",
    "ylim=ax.get_ylim()\n",
    "# Poids de l'hyperplan\n",
    "x2=[w[0],w[1],-w[1],w[0]]\n",
    "x3=[w[0],w[1],w[1],-w[0]]\n",
    "xx = np.linspace(xlim[0], xlim[1])\n",
    "Z=(-w[0]/w[1])*xx\n",
    "plt.plot(xx,Z, color='blue')\n",
    "\n",
    "\n"
   ]
  },
  {
   "cell_type": "markdown",
   "id": "multiple-contrast",
   "metadata": {},
   "source": [
    "## Phase de prédiction et test\n",
    "\n",
    "On génére un dataset de test composé de 20 points centrés sur 10 *centers*. Parsuite, on prédit leur classes basé sur l'hyperplan."
   ]
  },
  {
   "cell_type": "code",
   "execution_count": 22,
   "id": "classified-perspective",
   "metadata": {},
   "outputs": [
    {
     "data": {
      "image/png": "[encoded data removed]",
      "text/plain": [
       "<Figure size 432x288 with 1 Axes>"
      ]
     },
     "metadata": {
      "needs_background": "light"
     },
     "output_type": "display_data"
    }
   ],
   "source": [
    "#put some test data in the predict function and plot them with the correct\n",
    "#symbol on the graph\n",
    "\n",
    "X_test, y_test = make_blobs(n_samples=20, centers=10, random_state=1) \n",
    "\n",
    "predicted_classes=[]\n",
    "\n",
    "for point in X_test:\n",
    "    predicted_classes.append(svm_predict(point, w))\n",
    "\n",
    "for d, test_sample in enumerate(X_test):\n",
    "    \n",
    "    # Plot the negative points\n",
    "    if predicted_classes[d]<0:\n",
    "        plt.scatter(test_sample[0], test_sample[1], facecolors='none', edgecolors='r', linewidths=2)\n",
    "    # Plot the positivecoordinates\n",
    "    else:\n",
    "        plt.scatter(test_sample[0], test_sample[1], facecolors='none', edgecolors='b', linewidths=2)\n",
    "\n",
    "for d, sample in enumerate(X):\n",
    "    \n",
    "    # Plot the negative points\n",
    "    if y[d]<0:\n",
    "        plt.scatter(sample[0], sample[1],c='red', linewidths=1)\n",
    "    # Plot the positivecoordinates\n",
    "    else:\n",
    "        plt.scatter(sample[0], sample[1], c='blue', linewidths=1)\n",
    "# retracer l'hyperplan pour la nouvelle figure test\n",
    "ax=plt.gca()\n",
    "# acquisition des limites de la figure\n",
    "xlim=ax.get_xlim()\n",
    "ylim=ax.get_ylim()\n",
    "#linspace\n",
    "xx = np.linspace(xlim[0], xlim[1])\n",
    "Z=(-w[0]/w[1])*xx #equation de l'hyperplan\n",
    "\n",
    "class_1 = mpatches.Patch(color='red', label=\"-1\")\n",
    "class_2 = mpatches.Patch(color='blue', label='1')\n",
    "plt.plot(xx,Z, color='blue')\n",
    "plt.legend(handles=[class_1,class_2])\n",
    "plt.title(\"Classification SVM (train,test)=(80,20) \")\n",
    "plt.show()"
   ]
  },
  {
   "cell_type": "code",
   "execution_count": null,
   "id": "corresponding-support",
   "metadata": {},
   "outputs": [],
   "source": []
  }
 ],
 "metadata": {
  "kernelspec": {
   "display_name": "Python 3",
   "language": "python",
   "name": "python3"
  },
  "language_info": {
   "codemirror_mode": {
    "name": "ipython",
    "version": 3
   },
   "file_extension": ".py",
   "mimetype": "text/x-python",
   "name": "python",
   "nbconvert_exporter": "python",
   "pygments_lexer": "ipython3",
   "version": "3.8.5"
  }
 },
 "nbformat": 4,
 "nbformat_minor": 5
}
